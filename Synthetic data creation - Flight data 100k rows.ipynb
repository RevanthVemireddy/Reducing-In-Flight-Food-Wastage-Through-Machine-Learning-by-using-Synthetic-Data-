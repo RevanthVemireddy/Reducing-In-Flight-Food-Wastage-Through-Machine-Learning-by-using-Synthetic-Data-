{
 "cells": [
  {
   "cell_type": "markdown",
   "id": "ab7fb910",
   "metadata": {},
   "source": [
    "#### Dataset Conditions"
   ]
  },
  {
   "cell_type": "markdown",
   "id": "d9eddf3f",
   "metadata": {},
   "source": [
    "####\n",
    "\n",
    "-> Data set Structure\n",
    "\n",
    "* All Numerical Values must be whole numbers.\n",
    "\n",
    "* Number of flights has to be 100,000 & evenly spread out through out the year 2023 & 2022.\n",
    "\n",
    "*  List of some International airports in the world, for Origin_Airport & Destination_Airport Attributes\n",
    "\n",
    "*  Use short forms for airport names\n",
    "\n",
    "* There has to be only 100 flight IDs with their own fixed travel routes. The 100,000 rows generated should only pick a flight ID from these pre-defined 100 flight IDs.\n",
    "\n",
    "* Create varying Flight_Duration (units: hours) , based on the travel distance between origin and destination airports.\n",
    "\n",
    "* Flight_Time hs to be consistent, There are usually morning, afternoon, evening, night & early hour flights with their own fixed timings. I want you to allocate such fixed timings to each flight\n",
    "\n",
    "* The randomly generated dates should cover the entire 2023 & 2022 calendar years, allocate flights accordingly per month.\n",
    "\n",
    "* Flight_Duration can vary from 2 hours to 16 hours depending on the distance between 2 hours.\n",
    "\n",
    "-> Festival Conditions\n",
    "\n",
    "* Include  major international festivals/holidays\n",
    "\n",
    "* Festivals only take place once per calendar year\n",
    "\n",
    "* The 2 days before a special event, all flights are at their max operating capacity. For example, if the holiday is on 18th, 16th & 17th witness peak Passengers_Booked and on 18th the flights only operate at below average bookings.\n",
    "\n",
    "* On the date of the festival there's a 40-50% dip than the avg number of Passengers_Booked, as many travelers have already reached their destination on the date of the festival.\n",
    "\n",
    "* The day after the festival, the Passengers_Booked gets back to normal \n",
    "\n",
    "\n",
    "-> Weather Conditions\n",
    "\n",
    "* The  Weather_Conditions should only have two options, good or bad. \n",
    "\n",
    "* Depending on the flight travel date, correlate it with the season at that point of the year. If a certain month falls under monsoon season, that time frame is likely to experience more bad weather. Similarly if a certain date or month falls under summer, flights in that time frame are less likely to experience bad weather.\n",
    "\n",
    "* The No_show attribute is dependent on Weather_Conditions, there are less number of passengers in Bad weather conditions and more passengers in good weather conditions.\n",
    "\n",
    "* The No_show attribute has to show the number of passengers who did not show up. If 100 passengers booked tickets and only 80 got on the flight, clearly display the number 20 in No_show\n",
    "\n",
    "\n",
    "-> Food Conditions\n",
    "\n",
    "* NonVeg_Meal + Veg_Meal + Jain_Meal = Meals_Loaded\n",
    "\n",
    "* Meals_Loaded should be slightly higher than Passengers_Booked\n",
    "\n",
    "* Meals_Wasted should never exceed Meals_Loaded\n",
    "\n",
    "* Meals_Wasted are higher if there are more Passengers_Booked & it leads to an increase in the number of No_show, incase of bad weather.\n",
    "\n",
    "* Meals_Wasted can not be negative, it can be zero if No_show is zero. However keep in mind that Meals_Wasted = 0 is a very rare occurence as Meals_Loaded is higher than Passengers_Booked\n",
    "\n",
    "* Jain_Food has to be high if there's a Jain Festival\n",
    "\n",
    "*  Flights early in the morning or late at night might have different meal consumption patterns compared to midday flights. Similarly, weekdays vs. weekends or holiday seasons could affect passenger numbers and meal consumption.\n",
    "\n",
    "* In long flight jounerys people are more likely to consume meals, where as in shoter flights in odd timings passengers are less likely to consume meals"
   ]
  },
  {
   "cell_type": "markdown",
   "id": "fbb38097",
   "metadata": {},
   "source": [
    "#### Importing Libraries"
   ]
  },
  {
   "cell_type": "code",
   "execution_count": 1,
   "id": "46494a15",
   "metadata": {},
   "outputs": [],
   "source": [
    "import pandas as pd\n",
    "import numpy as np\n",
    "from datetime import datetime, timedelta\n",
    "import random\n",
    "\n",
    "# Basic parameters\n",
    "total_flights = 100000\n",
    "years = [2022, 2023]\n",
    "flight_ids = [f\"FLIGHT_{str(i).zfill(3)}\" for i in range(1, 101)]\n",
    "flight_times = ['Morning', 'Afternoon', 'Evening', 'Night', 'Early Hours']\n"
   ]
  },
  {
   "cell_type": "markdown",
   "id": "082f1e28",
   "metadata": {},
   "source": [
    "#### Airport Codes & Flight Routes"
   ]
  },
  {
   "cell_type": "code",
   "execution_count": 2,
   "id": "627ffb0e",
   "metadata": {},
   "outputs": [],
   "source": [
    "# Assuming a simplified list of international airport codes; replace with a full list as needed\n",
    "airport_codes = ['LAX', 'JFK', 'CDG', 'DXB', 'HND', 'LHR', 'SIN', 'SYD', 'FRA', 'YYZ']\n",
    "\n",
    "# Generating fixed routes for each flight ID\n",
    "np.random.seed(42)  # Ensure reproducibility\n",
    "routes = [(np.random.choice(airport_codes), np.random.choice(airport_codes)) for _ in flight_ids]\n",
    "flight_route_map = dict(zip(flight_ids, routes))\n"
   ]
  },
  {
   "cell_type": "markdown",
   "id": "fe8eee37",
   "metadata": {},
   "source": [
    "#### Flight Duration based on Routes"
   ]
  },
  {
   "cell_type": "code",
   "execution_count": 3,
   "id": "58c86038",
   "metadata": {},
   "outputs": [],
   "source": [
    "# Simplify by assigning random, whole number durations; in practice, this could reflect the distance between airports\n",
    "flight_durations = {flight_id: np.random.randint(2, 17) for flight_id in flight_ids}\n"
   ]
  },
  {
   "cell_type": "markdown",
   "id": "67087b4a",
   "metadata": {},
   "source": [
    "#### Distributing Flights across various dates"
   ]
  },
  {
   "cell_type": "code",
   "execution_count": 4,
   "id": "99b22f4d",
   "metadata": {},
   "outputs": [],
   "source": [
    "# Generate dates to evenly distribute flights across 2022 and 2023\n",
    "date_start = datetime(2022, 1, 1)\n",
    "date_end = datetime(2023, 12, 31)\n",
    "all_dates = pd.date_range(start=date_start, end=date_end).tolist()\n",
    "flight_dates = np.random.choice(all_dates, total_flights, replace=True)\n"
   ]
  },
  {
   "cell_type": "markdown",
   "id": "0c91aff3",
   "metadata": {},
   "source": [
    "#### Allocating Flight Times"
   ]
  },
  {
   "cell_type": "code",
   "execution_count": 5,
   "id": "b08a91b5",
   "metadata": {},
   "outputs": [],
   "source": [
    "# Allocate fixed flight times to each flight ID (simplified to random allocation for this example)\n",
    "flight_time_map = {flight_id: np.random.choice(flight_times) for flight_id in flight_ids}\n"
   ]
  },
  {
   "cell_type": "markdown",
   "id": "e7f144c7",
   "metadata": {},
   "source": [
    "#### Passenger Bookings & No Show Conditions"
   ]
  },
  {
   "cell_type": "code",
   "execution_count": 6,
   "id": "93bb876f",
   "metadata": {},
   "outputs": [],
   "source": [
    "# Randomly generate passengers booked (whole numbers) and no-shows (whole numbers); adjust logic for festival and weather conditions as needed\n",
    "passengers_booked = np.random.randint(50, 301, size=total_flights)  # Between 50 and 300 passengers, whole numbers\n",
    "weather_conditions = np.random.choice(['Good', 'Bad'], size=total_flights)\n",
    "# For no-shows, ensure whole numbers are generated\n",
    "no_shows = np.where(weather_conditions == 'Good', np.random.randint(0, 11, total_flights), np.random.randint(10, 21, total_flights))\n"
   ]
  },
  {
   "cell_type": "markdown",
   "id": "f4954606",
   "metadata": {},
   "source": [
    "#### Special Events"
   ]
  },
  {
   "cell_type": "code",
   "execution_count": null,
   "id": "5f3eeb37",
   "metadata": {},
   "outputs": [],
   "source": [
    "# For simplicity, randomly assign 'Yes' or 'No' to flights; customize logic for actual event dates and impacts\n",
    "special_events = np.random.choice(['Yes', 'No'], size=total_flights)\n"
   ]
  },
  {
   "cell_type": "markdown",
   "id": "70001c01",
   "metadata": {},
   "source": [
    "#### Generating Meal Data"
   ]
  },
  {
   "cell_type": "code",
   "execution_count": null,
   "id": "e61f36e4",
   "metadata": {},
   "outputs": [],
   "source": [
    "# Simplified meal calculation ensuring whole numbers; adjust based on flight time, no-shows\n",
    "nonveg_meals = (passengers_booked * 0.5).astype(int)\n",
    "veg_meals = (passengers_booked * 0.3).astype(int)\n",
    "jain_meals = (passengers_booked * 0.2).astype(int)\n",
    "meals_loaded = nonveg_meals + veg_meals + jain_meals\n",
    "# Ensure whole numbers for meals wasted, with logic simplified for demonstration\n",
    "meals_wasted = np.where(weather_conditions == 'Bad', (no_shows * 1.5).astype(int), no_shows)\n"
   ]
  },
  {
   "cell_type": "markdown",
   "id": "1ada0e97",
   "metadata": {},
   "source": [
    "#### Compiling & Saving Dataset"
   ]
  },
  {
   "cell_type": "code",
   "execution_count": null,
   "id": "73ab1f76",
   "metadata": {},
   "outputs": [],
   "source": [
    "# Compile all data into a DataFrame ensuring all numerical values are whole numbers\n",
    "flights_data = pd.DataFrame({\n",
    "    'Flight_ID': np.random.choice(flight_ids, total_flights),\n",
    "    'Origin_Airport': [flight_route_map[id][0] for id in np.random.choice(flight_ids, total_flights)],\n",
    "    'Destination_Airport': [flight_route_map[id][1] for id in np.random.choice(flight_ids, total_flights)],\n",
    "    'Flight_Duration': [flight_durations[id] for id in np.random.choice(flight_ids, total_flights)],\n",
    "    'Flight_Date': [date.date() for date in flight_dates],\n",
    "    'Flight_Time': [flight_time_map[id] for id in np.random.choice(flight_ids, total_flights)],\n",
    "    'Passengers_Booked': passengers_booked,\n",
    "    'No_show': no_shows,\n",
    "    'Weather_Conditions': weather_conditions,\n",
    "    'Special_Event': special_events,\n",
    "    'NonVeg_Meal': nonveg_meals,\n",
    "    'Veg_Meal': veg_meals,\n",
    "    'Jain_Meal': jain_meals,\n",
    "    'Meals_Loaded': meals_loaded,\n",
    "    'Meals_Wasted': meals_wasted\n",
    "})\n",
    "\n",
    "# Save to CSV\n",
    "flights_data.to_csv('synthetic_flight_data.csv', index=False)\n",
    "\n"
   ]
  },
  {
   "cell_type": "code",
   "execution_count": null,
   "id": "ebc167f7",
   "metadata": {},
   "outputs": [],
   "source": []
  },
  {
   "cell_type": "code",
   "execution_count": null,
   "id": "8f2eb3e6",
   "metadata": {},
   "outputs": [],
   "source": []
  },
  {
   "cell_type": "code",
   "execution_count": null,
   "id": "05514f07",
   "metadata": {},
   "outputs": [],
   "source": []
  }
 ],
 "metadata": {
  "kernelspec": {
   "display_name": "Python 3 (ipykernel)",
   "language": "python",
   "name": "python3"
  },
  "language_info": {
   "codemirror_mode": {
    "name": "ipython",
    "version": 3
   },
   "file_extension": ".py",
   "mimetype": "text/x-python",
   "name": "python",
   "nbconvert_exporter": "python",
   "pygments_lexer": "ipython3",
   "version": "3.11.5"
  }
 },
 "nbformat": 4,
 "nbformat_minor": 5
}
