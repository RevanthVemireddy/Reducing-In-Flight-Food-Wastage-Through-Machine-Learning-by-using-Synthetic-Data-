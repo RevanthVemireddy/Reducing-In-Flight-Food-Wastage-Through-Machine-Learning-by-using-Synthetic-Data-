{
 "cells": [
  {
   "cell_type": "markdown",
   "id": "f4b4d9db",
   "metadata": {},
   "source": [
    "#Importing Libraries"
   ]
  },
  {
   "cell_type": "code",
   "execution_count": 1,
   "id": "9f2ae7b9",
   "metadata": {},
   "outputs": [],
   "source": [
    "import pandas as pd\n",
    "from sklearn.model_selection import train_test_split\n",
    "from sklearn.linear_model import LinearRegression\n",
    "from sklearn.metrics import mean_squared_error\n",
    "from sklearn.preprocessing import OneHotEncoder\n",
    "from sklearn.compose import ColumnTransformer\n",
    "from sklearn.pipeline import Pipeline"
   ]
  },
  {
   "cell_type": "markdown",
   "id": "c75a1870",
   "metadata": {},
   "source": [
    "#Load dataset"
   ]
  },
  {
   "cell_type": "code",
   "execution_count": 2,
   "id": "b047be4b",
   "metadata": {},
   "outputs": [],
   "source": [
    "data = pd.read_csv('synthetic_flight_data.csv')"
   ]
  },
  {
   "cell_type": "code",
   "execution_count": 3,
   "id": "c4bce930",
   "metadata": {},
   "outputs": [
    {
     "data": {
      "text/html": [
       "<div>\n",
       "<style scoped>\n",
       "    .dataframe tbody tr th:only-of-type {\n",
       "        vertical-align: middle;\n",
       "    }\n",
       "\n",
       "    .dataframe tbody tr th {\n",
       "        vertical-align: top;\n",
       "    }\n",
       "\n",
       "    .dataframe thead th {\n",
       "        text-align: right;\n",
       "    }\n",
       "</style>\n",
       "<table border=\"1\" class=\"dataframe\">\n",
       "  <thead>\n",
       "    <tr style=\"text-align: right;\">\n",
       "      <th></th>\n",
       "      <th>Flight_ID</th>\n",
       "      <th>Origin_Airport</th>\n",
       "      <th>Destination_Airport</th>\n",
       "      <th>Flight_Duration</th>\n",
       "      <th>Flight_Date</th>\n",
       "      <th>Flight_Time</th>\n",
       "      <th>Passengers_Booked</th>\n",
       "      <th>No_show</th>\n",
       "      <th>Weather_Conditions</th>\n",
       "      <th>Special_Event</th>\n",
       "      <th>NonVeg_Meal</th>\n",
       "      <th>Veg_Meal</th>\n",
       "      <th>Jain_Meal</th>\n",
       "      <th>Meals_Loaded</th>\n",
       "      <th>Meals_Wasted</th>\n",
       "    </tr>\n",
       "  </thead>\n",
       "  <tbody>\n",
       "    <tr>\n",
       "      <th>0</th>\n",
       "      <td>FLIGHT_077</td>\n",
       "      <td>LAX</td>\n",
       "      <td>FRA</td>\n",
       "      <td>11</td>\n",
       "      <td>2023-10-02</td>\n",
       "      <td>Night</td>\n",
       "      <td>260</td>\n",
       "      <td>7</td>\n",
       "      <td>Good</td>\n",
       "      <td>No</td>\n",
       "      <td>130</td>\n",
       "      <td>78</td>\n",
       "      <td>52</td>\n",
       "      <td>260</td>\n",
       "      <td>7</td>\n",
       "    </tr>\n",
       "    <tr>\n",
       "      <th>1</th>\n",
       "      <td>FLIGHT_019</td>\n",
       "      <td>SYD</td>\n",
       "      <td>JFK</td>\n",
       "      <td>5</td>\n",
       "      <td>2022-02-02</td>\n",
       "      <td>Afternoon</td>\n",
       "      <td>201</td>\n",
       "      <td>9</td>\n",
       "      <td>Good</td>\n",
       "      <td>No</td>\n",
       "      <td>100</td>\n",
       "      <td>60</td>\n",
       "      <td>40</td>\n",
       "      <td>200</td>\n",
       "      <td>9</td>\n",
       "    </tr>\n",
       "    <tr>\n",
       "      <th>2</th>\n",
       "      <td>FLIGHT_022</td>\n",
       "      <td>SIN</td>\n",
       "      <td>SYD</td>\n",
       "      <td>2</td>\n",
       "      <td>2023-11-19</td>\n",
       "      <td>Morning</td>\n",
       "      <td>197</td>\n",
       "      <td>9</td>\n",
       "      <td>Good</td>\n",
       "      <td>Yes</td>\n",
       "      <td>98</td>\n",
       "      <td>59</td>\n",
       "      <td>39</td>\n",
       "      <td>196</td>\n",
       "      <td>9</td>\n",
       "    </tr>\n",
       "    <tr>\n",
       "      <th>3</th>\n",
       "      <td>FLIGHT_033</td>\n",
       "      <td>DXB</td>\n",
       "      <td>JFK</td>\n",
       "      <td>12</td>\n",
       "      <td>2023-04-05</td>\n",
       "      <td>Morning</td>\n",
       "      <td>263</td>\n",
       "      <td>7</td>\n",
       "      <td>Good</td>\n",
       "      <td>No</td>\n",
       "      <td>131</td>\n",
       "      <td>78</td>\n",
       "      <td>52</td>\n",
       "      <td>261</td>\n",
       "      <td>7</td>\n",
       "    </tr>\n",
       "    <tr>\n",
       "      <th>4</th>\n",
       "      <td>FLIGHT_095</td>\n",
       "      <td>SIN</td>\n",
       "      <td>FRA</td>\n",
       "      <td>14</td>\n",
       "      <td>2023-04-15</td>\n",
       "      <td>Evening</td>\n",
       "      <td>60</td>\n",
       "      <td>13</td>\n",
       "      <td>Bad</td>\n",
       "      <td>No</td>\n",
       "      <td>30</td>\n",
       "      <td>18</td>\n",
       "      <td>12</td>\n",
       "      <td>60</td>\n",
       "      <td>19</td>\n",
       "    </tr>\n",
       "  </tbody>\n",
       "</table>\n",
       "</div>"
      ],
      "text/plain": [
       "    Flight_ID Origin_Airport Destination_Airport  Flight_Duration Flight_Date  \\\n",
       "0  FLIGHT_077            LAX                 FRA               11  2023-10-02   \n",
       "1  FLIGHT_019            SYD                 JFK                5  2022-02-02   \n",
       "2  FLIGHT_022            SIN                 SYD                2  2023-11-19   \n",
       "3  FLIGHT_033            DXB                 JFK               12  2023-04-05   \n",
       "4  FLIGHT_095            SIN                 FRA               14  2023-04-15   \n",
       "\n",
       "  Flight_Time  Passengers_Booked  No_show Weather_Conditions Special_Event  \\\n",
       "0       Night                260        7               Good            No   \n",
       "1   Afternoon                201        9               Good            No   \n",
       "2     Morning                197        9               Good           Yes   \n",
       "3     Morning                263        7               Good            No   \n",
       "4     Evening                 60       13                Bad            No   \n",
       "\n",
       "   NonVeg_Meal  Veg_Meal  Jain_Meal  Meals_Loaded  Meals_Wasted  \n",
       "0          130        78         52           260             7  \n",
       "1          100        60         40           200             9  \n",
       "2           98        59         39           196             9  \n",
       "3          131        78         52           261             7  \n",
       "4           30        18         12            60            19  "
      ]
     },
     "execution_count": 3,
     "metadata": {},
     "output_type": "execute_result"
    }
   ],
   "source": [
    "data.head()"
   ]
  },
  {
   "cell_type": "markdown",
   "id": "f10dcad8",
   "metadata": {},
   "source": [
    "#Feature Engineering"
   ]
  },
  {
   "cell_type": "code",
   "execution_count": 4,
   "id": "2fd4c2c7",
   "metadata": {},
   "outputs": [],
   "source": [
    "# Converting 'Weather_Conditions' to a binary variable: 1 for bad, 0 for good\n",
    "data['Weather_Conditions'] = data['Weather_Conditions'].apply(lambda x: 1 if x == 'Bad' else 0)\n",
    "\n",
    "# Encoding 'Flight_Time' as binary: 1 for odd hours (Early Morning, Night), 0 for other times\n",
    "data['Odd_Hours'] = data['Flight_Time'].apply(lambda x: 1 if x in ['Early Hours', 'Night'] else 0)"
   ]
  },
  {
   "cell_type": "code",
   "execution_count": 5,
   "id": "1524c787",
   "metadata": {},
   "outputs": [
    {
     "data": {
      "text/html": [
       "<div>\n",
       "<style scoped>\n",
       "    .dataframe tbody tr th:only-of-type {\n",
       "        vertical-align: middle;\n",
       "    }\n",
       "\n",
       "    .dataframe tbody tr th {\n",
       "        vertical-align: top;\n",
       "    }\n",
       "\n",
       "    .dataframe thead th {\n",
       "        text-align: right;\n",
       "    }\n",
       "</style>\n",
       "<table border=\"1\" class=\"dataframe\">\n",
       "  <thead>\n",
       "    <tr style=\"text-align: right;\">\n",
       "      <th></th>\n",
       "      <th>Flight_ID</th>\n",
       "      <th>Origin_Airport</th>\n",
       "      <th>Destination_Airport</th>\n",
       "      <th>Flight_Duration</th>\n",
       "      <th>Flight_Date</th>\n",
       "      <th>Flight_Time</th>\n",
       "      <th>Passengers_Booked</th>\n",
       "      <th>No_show</th>\n",
       "      <th>Weather_Conditions</th>\n",
       "      <th>Special_Event</th>\n",
       "      <th>NonVeg_Meal</th>\n",
       "      <th>Veg_Meal</th>\n",
       "      <th>Jain_Meal</th>\n",
       "      <th>Meals_Loaded</th>\n",
       "      <th>Meals_Wasted</th>\n",
       "      <th>Odd_Hours</th>\n",
       "    </tr>\n",
       "  </thead>\n",
       "  <tbody>\n",
       "    <tr>\n",
       "      <th>0</th>\n",
       "      <td>FLIGHT_077</td>\n",
       "      <td>LAX</td>\n",
       "      <td>FRA</td>\n",
       "      <td>11</td>\n",
       "      <td>2023-10-02</td>\n",
       "      <td>Night</td>\n",
       "      <td>260</td>\n",
       "      <td>7</td>\n",
       "      <td>0</td>\n",
       "      <td>No</td>\n",
       "      <td>130</td>\n",
       "      <td>78</td>\n",
       "      <td>52</td>\n",
       "      <td>260</td>\n",
       "      <td>7</td>\n",
       "      <td>1</td>\n",
       "    </tr>\n",
       "    <tr>\n",
       "      <th>1</th>\n",
       "      <td>FLIGHT_019</td>\n",
       "      <td>SYD</td>\n",
       "      <td>JFK</td>\n",
       "      <td>5</td>\n",
       "      <td>2022-02-02</td>\n",
       "      <td>Afternoon</td>\n",
       "      <td>201</td>\n",
       "      <td>9</td>\n",
       "      <td>0</td>\n",
       "      <td>No</td>\n",
       "      <td>100</td>\n",
       "      <td>60</td>\n",
       "      <td>40</td>\n",
       "      <td>200</td>\n",
       "      <td>9</td>\n",
       "      <td>0</td>\n",
       "    </tr>\n",
       "    <tr>\n",
       "      <th>2</th>\n",
       "      <td>FLIGHT_022</td>\n",
       "      <td>SIN</td>\n",
       "      <td>SYD</td>\n",
       "      <td>2</td>\n",
       "      <td>2023-11-19</td>\n",
       "      <td>Morning</td>\n",
       "      <td>197</td>\n",
       "      <td>9</td>\n",
       "      <td>0</td>\n",
       "      <td>Yes</td>\n",
       "      <td>98</td>\n",
       "      <td>59</td>\n",
       "      <td>39</td>\n",
       "      <td>196</td>\n",
       "      <td>9</td>\n",
       "      <td>0</td>\n",
       "    </tr>\n",
       "    <tr>\n",
       "      <th>3</th>\n",
       "      <td>FLIGHT_033</td>\n",
       "      <td>DXB</td>\n",
       "      <td>JFK</td>\n",
       "      <td>12</td>\n",
       "      <td>2023-04-05</td>\n",
       "      <td>Morning</td>\n",
       "      <td>263</td>\n",
       "      <td>7</td>\n",
       "      <td>0</td>\n",
       "      <td>No</td>\n",
       "      <td>131</td>\n",
       "      <td>78</td>\n",
       "      <td>52</td>\n",
       "      <td>261</td>\n",
       "      <td>7</td>\n",
       "      <td>0</td>\n",
       "    </tr>\n",
       "    <tr>\n",
       "      <th>4</th>\n",
       "      <td>FLIGHT_095</td>\n",
       "      <td>SIN</td>\n",
       "      <td>FRA</td>\n",
       "      <td>14</td>\n",
       "      <td>2023-04-15</td>\n",
       "      <td>Evening</td>\n",
       "      <td>60</td>\n",
       "      <td>13</td>\n",
       "      <td>1</td>\n",
       "      <td>No</td>\n",
       "      <td>30</td>\n",
       "      <td>18</td>\n",
       "      <td>12</td>\n",
       "      <td>60</td>\n",
       "      <td>19</td>\n",
       "      <td>0</td>\n",
       "    </tr>\n",
       "    <tr>\n",
       "      <th>...</th>\n",
       "      <td>...</td>\n",
       "      <td>...</td>\n",
       "      <td>...</td>\n",
       "      <td>...</td>\n",
       "      <td>...</td>\n",
       "      <td>...</td>\n",
       "      <td>...</td>\n",
       "      <td>...</td>\n",
       "      <td>...</td>\n",
       "      <td>...</td>\n",
       "      <td>...</td>\n",
       "      <td>...</td>\n",
       "      <td>...</td>\n",
       "      <td>...</td>\n",
       "      <td>...</td>\n",
       "      <td>...</td>\n",
       "    </tr>\n",
       "    <tr>\n",
       "      <th>99995</th>\n",
       "      <td>FLIGHT_034</td>\n",
       "      <td>JFK</td>\n",
       "      <td>LHR</td>\n",
       "      <td>12</td>\n",
       "      <td>2022-04-27</td>\n",
       "      <td>Night</td>\n",
       "      <td>172</td>\n",
       "      <td>20</td>\n",
       "      <td>1</td>\n",
       "      <td>Yes</td>\n",
       "      <td>86</td>\n",
       "      <td>51</td>\n",
       "      <td>34</td>\n",
       "      <td>171</td>\n",
       "      <td>30</td>\n",
       "      <td>1</td>\n",
       "    </tr>\n",
       "    <tr>\n",
       "      <th>99996</th>\n",
       "      <td>FLIGHT_002</td>\n",
       "      <td>FRA</td>\n",
       "      <td>SYD</td>\n",
       "      <td>4</td>\n",
       "      <td>2022-03-14</td>\n",
       "      <td>Evening</td>\n",
       "      <td>127</td>\n",
       "      <td>12</td>\n",
       "      <td>1</td>\n",
       "      <td>Yes</td>\n",
       "      <td>63</td>\n",
       "      <td>38</td>\n",
       "      <td>25</td>\n",
       "      <td>126</td>\n",
       "      <td>18</td>\n",
       "      <td>0</td>\n",
       "    </tr>\n",
       "    <tr>\n",
       "      <th>99997</th>\n",
       "      <td>FLIGHT_002</td>\n",
       "      <td>LHR</td>\n",
       "      <td>SYD</td>\n",
       "      <td>7</td>\n",
       "      <td>2022-05-27</td>\n",
       "      <td>Afternoon</td>\n",
       "      <td>194</td>\n",
       "      <td>19</td>\n",
       "      <td>1</td>\n",
       "      <td>Yes</td>\n",
       "      <td>97</td>\n",
       "      <td>58</td>\n",
       "      <td>38</td>\n",
       "      <td>193</td>\n",
       "      <td>28</td>\n",
       "      <td>0</td>\n",
       "    </tr>\n",
       "    <tr>\n",
       "      <th>99998</th>\n",
       "      <td>FLIGHT_036</td>\n",
       "      <td>YYZ</td>\n",
       "      <td>LAX</td>\n",
       "      <td>2</td>\n",
       "      <td>2022-05-04</td>\n",
       "      <td>Morning</td>\n",
       "      <td>58</td>\n",
       "      <td>10</td>\n",
       "      <td>0</td>\n",
       "      <td>No</td>\n",
       "      <td>29</td>\n",
       "      <td>17</td>\n",
       "      <td>11</td>\n",
       "      <td>57</td>\n",
       "      <td>10</td>\n",
       "      <td>0</td>\n",
       "    </tr>\n",
       "    <tr>\n",
       "      <th>99999</th>\n",
       "      <td>FLIGHT_089</td>\n",
       "      <td>HND</td>\n",
       "      <td>SIN</td>\n",
       "      <td>3</td>\n",
       "      <td>2023-11-25</td>\n",
       "      <td>Evening</td>\n",
       "      <td>92</td>\n",
       "      <td>5</td>\n",
       "      <td>0</td>\n",
       "      <td>No</td>\n",
       "      <td>46</td>\n",
       "      <td>27</td>\n",
       "      <td>18</td>\n",
       "      <td>91</td>\n",
       "      <td>5</td>\n",
       "      <td>0</td>\n",
       "    </tr>\n",
       "  </tbody>\n",
       "</table>\n",
       "<p>100000 rows × 16 columns</p>\n",
       "</div>"
      ],
      "text/plain": [
       "        Flight_ID Origin_Airport Destination_Airport  Flight_Duration  \\\n",
       "0      FLIGHT_077            LAX                 FRA               11   \n",
       "1      FLIGHT_019            SYD                 JFK                5   \n",
       "2      FLIGHT_022            SIN                 SYD                2   \n",
       "3      FLIGHT_033            DXB                 JFK               12   \n",
       "4      FLIGHT_095            SIN                 FRA               14   \n",
       "...           ...            ...                 ...              ...   \n",
       "99995  FLIGHT_034            JFK                 LHR               12   \n",
       "99996  FLIGHT_002            FRA                 SYD                4   \n",
       "99997  FLIGHT_002            LHR                 SYD                7   \n",
       "99998  FLIGHT_036            YYZ                 LAX                2   \n",
       "99999  FLIGHT_089            HND                 SIN                3   \n",
       "\n",
       "      Flight_Date Flight_Time  Passengers_Booked  No_show  Weather_Conditions  \\\n",
       "0      2023-10-02       Night                260        7                   0   \n",
       "1      2022-02-02   Afternoon                201        9                   0   \n",
       "2      2023-11-19     Morning                197        9                   0   \n",
       "3      2023-04-05     Morning                263        7                   0   \n",
       "4      2023-04-15     Evening                 60       13                   1   \n",
       "...           ...         ...                ...      ...                 ...   \n",
       "99995  2022-04-27       Night                172       20                   1   \n",
       "99996  2022-03-14     Evening                127       12                   1   \n",
       "99997  2022-05-27   Afternoon                194       19                   1   \n",
       "99998  2022-05-04     Morning                 58       10                   0   \n",
       "99999  2023-11-25     Evening                 92        5                   0   \n",
       "\n",
       "      Special_Event  NonVeg_Meal  Veg_Meal  Jain_Meal  Meals_Loaded  \\\n",
       "0                No          130        78         52           260   \n",
       "1                No          100        60         40           200   \n",
       "2               Yes           98        59         39           196   \n",
       "3                No          131        78         52           261   \n",
       "4                No           30        18         12            60   \n",
       "...             ...          ...       ...        ...           ...   \n",
       "99995           Yes           86        51         34           171   \n",
       "99996           Yes           63        38         25           126   \n",
       "99997           Yes           97        58         38           193   \n",
       "99998            No           29        17         11            57   \n",
       "99999            No           46        27         18            91   \n",
       "\n",
       "       Meals_Wasted  Odd_Hours  \n",
       "0                 7          1  \n",
       "1                 9          0  \n",
       "2                 9          0  \n",
       "3                 7          0  \n",
       "4                19          0  \n",
       "...             ...        ...  \n",
       "99995            30          1  \n",
       "99996            18          0  \n",
       "99997            28          0  \n",
       "99998            10          0  \n",
       "99999             5          0  \n",
       "\n",
       "[100000 rows x 16 columns]"
      ]
     },
     "execution_count": 5,
     "metadata": {},
     "output_type": "execute_result"
    }
   ],
   "source": [
    "data"
   ]
  },
  {
   "cell_type": "code",
   "execution_count": 6,
   "id": "0647bf0f",
   "metadata": {},
   "outputs": [],
   "source": [
    "from sklearn.preprocessing import LabelEncoder\n",
    "le = LabelEncoder()"
   ]
  },
  {
   "cell_type": "code",
   "execution_count": 7,
   "id": "3ca5469d",
   "metadata": {},
   "outputs": [],
   "source": [
    "data['Special_Event'] = le.fit_transform(data['Special_Event'])"
   ]
  },
  {
   "cell_type": "code",
   "execution_count": 8,
   "id": "a23a898d",
   "metadata": {},
   "outputs": [],
   "source": [
    "# Features and target variable\n",
    "X = data[['Flight_Duration', 'Odd_Hours', 'Passengers_Booked', 'Meals_Loaded','Weather_Conditions','Special_Event']].values\n",
    "y = data['No_show'].values"
   ]
  },
  {
   "cell_type": "code",
   "execution_count": 9,
   "id": "dda2532d",
   "metadata": {},
   "outputs": [
    {
     "data": {
      "text/plain": [
       "array([[ 11,   1, 260, 260,   0,   0],\n",
       "       [  5,   0, 201, 200,   0,   0],\n",
       "       [  2,   0, 197, 196,   0,   1],\n",
       "       ...,\n",
       "       [  7,   0, 194, 193,   1,   1],\n",
       "       [  2,   0,  58,  57,   0,   0],\n",
       "       [  3,   0,  92,  91,   0,   0]], dtype=int64)"
      ]
     },
     "execution_count": 9,
     "metadata": {},
     "output_type": "execute_result"
    }
   ],
   "source": [
    "X"
   ]
  },
  {
   "cell_type": "code",
   "execution_count": 10,
   "id": "311ae2d0",
   "metadata": {},
   "outputs": [
    {
     "data": {
      "text/plain": [
       "array([ 7,  9,  9, ..., 19, 10,  5], dtype=int64)"
      ]
     },
     "execution_count": 10,
     "metadata": {},
     "output_type": "execute_result"
    }
   ],
   "source": [
    "y"
   ]
  },
  {
   "cell_type": "code",
   "execution_count": 11,
   "id": "de0dfece",
   "metadata": {},
   "outputs": [],
   "source": [
    "from sklearn.model_selection import train_test_split\n",
    "X_train, X_test, y_train, y_test = train_test_split(X, y, test_size = 0.3, random_state = 42)"
   ]
  },
  {
   "cell_type": "markdown",
   "id": "2d5f46f3",
   "metadata": {},
   "source": [
    "# Building the Linear Regression Model"
   ]
  },
  {
   "cell_type": "code",
   "execution_count": 12,
   "id": "b4fc2e6e",
   "metadata": {},
   "outputs": [
    {
     "data": {
      "text/html": [
       "<style>#sk-container-id-1 {color: black;background-color: white;}#sk-container-id-1 pre{padding: 0;}#sk-container-id-1 div.sk-toggleable {background-color: white;}#sk-container-id-1 label.sk-toggleable__label {cursor: pointer;display: block;width: 100%;margin-bottom: 0;padding: 0.3em;box-sizing: border-box;text-align: center;}#sk-container-id-1 label.sk-toggleable__label-arrow:before {content: \"▸\";float: left;margin-right: 0.25em;color: #696969;}#sk-container-id-1 label.sk-toggleable__label-arrow:hover:before {color: black;}#sk-container-id-1 div.sk-estimator:hover label.sk-toggleable__label-arrow:before {color: black;}#sk-container-id-1 div.sk-toggleable__content {max-height: 0;max-width: 0;overflow: hidden;text-align: left;background-color: #f0f8ff;}#sk-container-id-1 div.sk-toggleable__content pre {margin: 0.2em;color: black;border-radius: 0.25em;background-color: #f0f8ff;}#sk-container-id-1 input.sk-toggleable__control:checked~div.sk-toggleable__content {max-height: 200px;max-width: 100%;overflow: auto;}#sk-container-id-1 input.sk-toggleable__control:checked~label.sk-toggleable__label-arrow:before {content: \"▾\";}#sk-container-id-1 div.sk-estimator input.sk-toggleable__control:checked~label.sk-toggleable__label {background-color: #d4ebff;}#sk-container-id-1 div.sk-label input.sk-toggleable__control:checked~label.sk-toggleable__label {background-color: #d4ebff;}#sk-container-id-1 input.sk-hidden--visually {border: 0;clip: rect(1px 1px 1px 1px);clip: rect(1px, 1px, 1px, 1px);height: 1px;margin: -1px;overflow: hidden;padding: 0;position: absolute;width: 1px;}#sk-container-id-1 div.sk-estimator {font-family: monospace;background-color: #f0f8ff;border: 1px dotted black;border-radius: 0.25em;box-sizing: border-box;margin-bottom: 0.5em;}#sk-container-id-1 div.sk-estimator:hover {background-color: #d4ebff;}#sk-container-id-1 div.sk-parallel-item::after {content: \"\";width: 100%;border-bottom: 1px solid gray;flex-grow: 1;}#sk-container-id-1 div.sk-label:hover label.sk-toggleable__label {background-color: #d4ebff;}#sk-container-id-1 div.sk-serial::before {content: \"\";position: absolute;border-left: 1px solid gray;box-sizing: border-box;top: 0;bottom: 0;left: 50%;z-index: 0;}#sk-container-id-1 div.sk-serial {display: flex;flex-direction: column;align-items: center;background-color: white;padding-right: 0.2em;padding-left: 0.2em;position: relative;}#sk-container-id-1 div.sk-item {position: relative;z-index: 1;}#sk-container-id-1 div.sk-parallel {display: flex;align-items: stretch;justify-content: center;background-color: white;position: relative;}#sk-container-id-1 div.sk-item::before, #sk-container-id-1 div.sk-parallel-item::before {content: \"\";position: absolute;border-left: 1px solid gray;box-sizing: border-box;top: 0;bottom: 0;left: 50%;z-index: -1;}#sk-container-id-1 div.sk-parallel-item {display: flex;flex-direction: column;z-index: 1;position: relative;background-color: white;}#sk-container-id-1 div.sk-parallel-item:first-child::after {align-self: flex-end;width: 50%;}#sk-container-id-1 div.sk-parallel-item:last-child::after {align-self: flex-start;width: 50%;}#sk-container-id-1 div.sk-parallel-item:only-child::after {width: 0;}#sk-container-id-1 div.sk-dashed-wrapped {border: 1px dashed gray;margin: 0 0.4em 0.5em 0.4em;box-sizing: border-box;padding-bottom: 0.4em;background-color: white;}#sk-container-id-1 div.sk-label label {font-family: monospace;font-weight: bold;display: inline-block;line-height: 1.2em;}#sk-container-id-1 div.sk-label-container {text-align: center;}#sk-container-id-1 div.sk-container {/* jupyter's `normalize.less` sets `[hidden] { display: none; }` but bootstrap.min.css set `[hidden] { display: none !important; }` so we also need the `!important` here to be able to override the default hidden behavior on the sphinx rendered scikit-learn.org. See: https://github.com/scikit-learn/scikit-learn/issues/21755 */display: inline-block !important;position: relative;}#sk-container-id-1 div.sk-text-repr-fallback {display: none;}</style><div id=\"sk-container-id-1\" class=\"sk-top-container\"><div class=\"sk-text-repr-fallback\"><pre>LinearRegression()</pre><b>In a Jupyter environment, please rerun this cell to show the HTML representation or trust the notebook. <br />On GitHub, the HTML representation is unable to render, please try loading this page with nbviewer.org.</b></div><div class=\"sk-container\" hidden><div class=\"sk-item\"><div class=\"sk-estimator sk-toggleable\"><input class=\"sk-toggleable__control sk-hidden--visually\" id=\"sk-estimator-id-1\" type=\"checkbox\" checked><label for=\"sk-estimator-id-1\" class=\"sk-toggleable__label sk-toggleable__label-arrow\">LinearRegression</label><div class=\"sk-toggleable__content\"><pre>LinearRegression()</pre></div></div></div></div></div>"
      ],
      "text/plain": [
       "LinearRegression()"
      ]
     },
     "execution_count": 12,
     "metadata": {},
     "output_type": "execute_result"
    }
   ],
   "source": [
    "model = LinearRegression()\n",
    "model.fit(X_train, y_train)"
   ]
  },
  {
   "cell_type": "code",
   "execution_count": 13,
   "id": "d0f66b34",
   "metadata": {},
   "outputs": [],
   "source": [
    "# Predict on testing set\n",
    "y_pred = model.predict(X_test)"
   ]
  },
  {
   "cell_type": "code",
   "execution_count": 14,
   "id": "5f5cc282",
   "metadata": {
    "scrolled": true
   },
   "outputs": [
    {
     "data": {
      "text/plain": [
       "array([14.98970569, 14.96109835, 14.99287083, ..., 14.9831139 ,\n",
       "        4.98547616, 15.02974211])"
      ]
     },
     "execution_count": 14,
     "metadata": {},
     "output_type": "execute_result"
    }
   ],
   "source": [
    "y_pred"
   ]
  },
  {
   "cell_type": "code",
   "execution_count": null,
   "id": "354bfdfc",
   "metadata": {},
   "outputs": [],
   "source": []
  },
  {
   "cell_type": "markdown",
   "id": "0ad8e8de",
   "metadata": {},
   "source": [
    "# Calculate and print the mean squared error"
   ]
  },
  {
   "cell_type": "code",
   "execution_count": 15,
   "id": "1ecafb87",
   "metadata": {},
   "outputs": [
    {
     "name": "stdout",
     "output_type": "stream",
     "text": [
      "Mean Squared Error: 10.017910517269897\n"
     ]
    }
   ],
   "source": [
    "mse = mean_squared_error(y_test, y_pred)\n",
    "print(f\"Mean Squared Error: {mse}\")"
   ]
  },
  {
   "cell_type": "code",
   "execution_count": 16,
   "id": "238e9ed3",
   "metadata": {},
   "outputs": [
    {
     "name": "stdout",
     "output_type": "stream",
     "text": [
      "R² score for the training set: 0.71\n",
      "R² score for the testing set: 0.71\n"
     ]
    }
   ],
   "source": [
    "from sklearn.metrics import r2_score\n",
    "\n",
    "# Calculate R² score for training set\n",
    "train_r2 = r2_score(y_train, model.predict(X_train))\n",
    "print(f\"R² score for the training set: {train_r2:.2f}\")\n",
    "\n",
    "# Calculate R² score for testing set\n",
    "test_r2 = r2_score(y_test, y_pred)\n",
    "print(f\"R² score for the testing set: {test_r2:.2f}\")"
   ]
  },
  {
   "cell_type": "code",
   "execution_count": null,
   "id": "09043d28",
   "metadata": {},
   "outputs": [],
   "source": []
  },
  {
   "cell_type": "markdown",
   "id": "f4c8605b",
   "metadata": {},
   "source": [
    "### Using Random Forest Regressor"
   ]
  },
  {
   "cell_type": "code",
   "execution_count": 17,
   "id": "38f852be",
   "metadata": {},
   "outputs": [],
   "source": [
    "from sklearn.ensemble import RandomForestRegressor"
   ]
  },
  {
   "cell_type": "code",
   "execution_count": 18,
   "id": "3698bd87",
   "metadata": {},
   "outputs": [],
   "source": [
    "\n",
    "random_forest_model = RandomForestRegressor(n_estimators=25, random_state=42)"
   ]
  },
  {
   "cell_type": "code",
   "execution_count": 19,
   "id": "5ceae6b7",
   "metadata": {},
   "outputs": [
    {
     "data": {
      "text/html": [
       "<style>#sk-container-id-2 {color: black;background-color: white;}#sk-container-id-2 pre{padding: 0;}#sk-container-id-2 div.sk-toggleable {background-color: white;}#sk-container-id-2 label.sk-toggleable__label {cursor: pointer;display: block;width: 100%;margin-bottom: 0;padding: 0.3em;box-sizing: border-box;text-align: center;}#sk-container-id-2 label.sk-toggleable__label-arrow:before {content: \"▸\";float: left;margin-right: 0.25em;color: #696969;}#sk-container-id-2 label.sk-toggleable__label-arrow:hover:before {color: black;}#sk-container-id-2 div.sk-estimator:hover label.sk-toggleable__label-arrow:before {color: black;}#sk-container-id-2 div.sk-toggleable__content {max-height: 0;max-width: 0;overflow: hidden;text-align: left;background-color: #f0f8ff;}#sk-container-id-2 div.sk-toggleable__content pre {margin: 0.2em;color: black;border-radius: 0.25em;background-color: #f0f8ff;}#sk-container-id-2 input.sk-toggleable__control:checked~div.sk-toggleable__content {max-height: 200px;max-width: 100%;overflow: auto;}#sk-container-id-2 input.sk-toggleable__control:checked~label.sk-toggleable__label-arrow:before {content: \"▾\";}#sk-container-id-2 div.sk-estimator input.sk-toggleable__control:checked~label.sk-toggleable__label {background-color: #d4ebff;}#sk-container-id-2 div.sk-label input.sk-toggleable__control:checked~label.sk-toggleable__label {background-color: #d4ebff;}#sk-container-id-2 input.sk-hidden--visually {border: 0;clip: rect(1px 1px 1px 1px);clip: rect(1px, 1px, 1px, 1px);height: 1px;margin: -1px;overflow: hidden;padding: 0;position: absolute;width: 1px;}#sk-container-id-2 div.sk-estimator {font-family: monospace;background-color: #f0f8ff;border: 1px dotted black;border-radius: 0.25em;box-sizing: border-box;margin-bottom: 0.5em;}#sk-container-id-2 div.sk-estimator:hover {background-color: #d4ebff;}#sk-container-id-2 div.sk-parallel-item::after {content: \"\";width: 100%;border-bottom: 1px solid gray;flex-grow: 1;}#sk-container-id-2 div.sk-label:hover label.sk-toggleable__label {background-color: #d4ebff;}#sk-container-id-2 div.sk-serial::before {content: \"\";position: absolute;border-left: 1px solid gray;box-sizing: border-box;top: 0;bottom: 0;left: 50%;z-index: 0;}#sk-container-id-2 div.sk-serial {display: flex;flex-direction: column;align-items: center;background-color: white;padding-right: 0.2em;padding-left: 0.2em;position: relative;}#sk-container-id-2 div.sk-item {position: relative;z-index: 1;}#sk-container-id-2 div.sk-parallel {display: flex;align-items: stretch;justify-content: center;background-color: white;position: relative;}#sk-container-id-2 div.sk-item::before, #sk-container-id-2 div.sk-parallel-item::before {content: \"\";position: absolute;border-left: 1px solid gray;box-sizing: border-box;top: 0;bottom: 0;left: 50%;z-index: -1;}#sk-container-id-2 div.sk-parallel-item {display: flex;flex-direction: column;z-index: 1;position: relative;background-color: white;}#sk-container-id-2 div.sk-parallel-item:first-child::after {align-self: flex-end;width: 50%;}#sk-container-id-2 div.sk-parallel-item:last-child::after {align-self: flex-start;width: 50%;}#sk-container-id-2 div.sk-parallel-item:only-child::after {width: 0;}#sk-container-id-2 div.sk-dashed-wrapped {border: 1px dashed gray;margin: 0 0.4em 0.5em 0.4em;box-sizing: border-box;padding-bottom: 0.4em;background-color: white;}#sk-container-id-2 div.sk-label label {font-family: monospace;font-weight: bold;display: inline-block;line-height: 1.2em;}#sk-container-id-2 div.sk-label-container {text-align: center;}#sk-container-id-2 div.sk-container {/* jupyter's `normalize.less` sets `[hidden] { display: none; }` but bootstrap.min.css set `[hidden] { display: none !important; }` so we also need the `!important` here to be able to override the default hidden behavior on the sphinx rendered scikit-learn.org. See: https://github.com/scikit-learn/scikit-learn/issues/21755 */display: inline-block !important;position: relative;}#sk-container-id-2 div.sk-text-repr-fallback {display: none;}</style><div id=\"sk-container-id-2\" class=\"sk-top-container\"><div class=\"sk-text-repr-fallback\"><pre>RandomForestRegressor(n_estimators=25, random_state=42)</pre><b>In a Jupyter environment, please rerun this cell to show the HTML representation or trust the notebook. <br />On GitHub, the HTML representation is unable to render, please try loading this page with nbviewer.org.</b></div><div class=\"sk-container\" hidden><div class=\"sk-item\"><div class=\"sk-estimator sk-toggleable\"><input class=\"sk-toggleable__control sk-hidden--visually\" id=\"sk-estimator-id-2\" type=\"checkbox\" checked><label for=\"sk-estimator-id-2\" class=\"sk-toggleable__label sk-toggleable__label-arrow\">RandomForestRegressor</label><div class=\"sk-toggleable__content\"><pre>RandomForestRegressor(n_estimators=25, random_state=42)</pre></div></div></div></div></div>"
      ],
      "text/plain": [
       "RandomForestRegressor(n_estimators=25, random_state=42)"
      ]
     },
     "execution_count": 19,
     "metadata": {},
     "output_type": "execute_result"
    }
   ],
   "source": [
    "# Train the model\n",
    "random_forest_model.fit(X_train, y_train)"
   ]
  },
  {
   "cell_type": "code",
   "execution_count": 20,
   "id": "dd95d670",
   "metadata": {},
   "outputs": [],
   "source": [
    "y_pred_rf = random_forest_model.predict(X_test)"
   ]
  },
  {
   "cell_type": "code",
   "execution_count": 21,
   "id": "7d99b753",
   "metadata": {},
   "outputs": [
    {
     "data": {
      "text/plain": [
       "array([16.93333333, 13.74666667, 15.8512381 , ..., 13.09298413,\n",
       "        5.09661905, 15.70866667])"
      ]
     },
     "execution_count": 21,
     "metadata": {},
     "output_type": "execute_result"
    }
   ],
   "source": [
    "y_pred_rf"
   ]
  },
  {
   "cell_type": "code",
   "execution_count": 22,
   "id": "a13c3df3",
   "metadata": {},
   "outputs": [
    {
     "name": "stdout",
     "output_type": "stream",
     "text": [
      "Mean Squared Error for Random Forest: 12.983733393826519\n"
     ]
    }
   ],
   "source": [
    "# Calculating mean squared error\n",
    "mse_rf = mean_squared_error(y_test, y_pred_rf)\n",
    "print(f\"Mean Squared Error for Random Forest: {mse_rf}\")"
   ]
  },
  {
   "cell_type": "code",
   "execution_count": 23,
   "id": "a221308f",
   "metadata": {},
   "outputs": [
    {
     "name": "stdout",
     "output_type": "stream",
     "text": [
      "R² score for the testing set with Random Forest: 0.6285224712232169\n"
     ]
    }
   ],
   "source": [
    "# Calculating R² score for the testing set\n",
    "test_r2_rf = r2_score(y_test, y_pred_rf)\n",
    "print(f\"R² score for the testing set with Random Forest: {test_r2_rf}\")"
   ]
  },
  {
   "cell_type": "markdown",
   "id": "6751fac0",
   "metadata": {},
   "source": [
    "# Using Standard scalar"
   ]
  },
  {
   "cell_type": "code",
   "execution_count": 24,
   "id": "f38c5aca",
   "metadata": {},
   "outputs": [],
   "source": [
    "from sklearn.preprocessing import StandardScaler\n",
    "sc = StandardScaler()\n",
    "x_scaled = sc.fit_transform(X)"
   ]
  },
  {
   "cell_type": "code",
   "execution_count": 25,
   "id": "4ba10f44",
   "metadata": {},
   "outputs": [],
   "source": [
    "from sklearn.model_selection import train_test_split\n",
    "X_train, X_test, y_train, y_test = train_test_split(x_scaled, y, test_size = 0.25, random_state = 7000)"
   ]
  },
  {
   "cell_type": "code",
   "execution_count": 26,
   "id": "415bb106",
   "metadata": {},
   "outputs": [
    {
     "data": {
      "text/html": [
       "<style>#sk-container-id-3 {color: black;background-color: white;}#sk-container-id-3 pre{padding: 0;}#sk-container-id-3 div.sk-toggleable {background-color: white;}#sk-container-id-3 label.sk-toggleable__label {cursor: pointer;display: block;width: 100%;margin-bottom: 0;padding: 0.3em;box-sizing: border-box;text-align: center;}#sk-container-id-3 label.sk-toggleable__label-arrow:before {content: \"▸\";float: left;margin-right: 0.25em;color: #696969;}#sk-container-id-3 label.sk-toggleable__label-arrow:hover:before {color: black;}#sk-container-id-3 div.sk-estimator:hover label.sk-toggleable__label-arrow:before {color: black;}#sk-container-id-3 div.sk-toggleable__content {max-height: 0;max-width: 0;overflow: hidden;text-align: left;background-color: #f0f8ff;}#sk-container-id-3 div.sk-toggleable__content pre {margin: 0.2em;color: black;border-radius: 0.25em;background-color: #f0f8ff;}#sk-container-id-3 input.sk-toggleable__control:checked~div.sk-toggleable__content {max-height: 200px;max-width: 100%;overflow: auto;}#sk-container-id-3 input.sk-toggleable__control:checked~label.sk-toggleable__label-arrow:before {content: \"▾\";}#sk-container-id-3 div.sk-estimator input.sk-toggleable__control:checked~label.sk-toggleable__label {background-color: #d4ebff;}#sk-container-id-3 div.sk-label input.sk-toggleable__control:checked~label.sk-toggleable__label {background-color: #d4ebff;}#sk-container-id-3 input.sk-hidden--visually {border: 0;clip: rect(1px 1px 1px 1px);clip: rect(1px, 1px, 1px, 1px);height: 1px;margin: -1px;overflow: hidden;padding: 0;position: absolute;width: 1px;}#sk-container-id-3 div.sk-estimator {font-family: monospace;background-color: #f0f8ff;border: 1px dotted black;border-radius: 0.25em;box-sizing: border-box;margin-bottom: 0.5em;}#sk-container-id-3 div.sk-estimator:hover {background-color: #d4ebff;}#sk-container-id-3 div.sk-parallel-item::after {content: \"\";width: 100%;border-bottom: 1px solid gray;flex-grow: 1;}#sk-container-id-3 div.sk-label:hover label.sk-toggleable__label {background-color: #d4ebff;}#sk-container-id-3 div.sk-serial::before {content: \"\";position: absolute;border-left: 1px solid gray;box-sizing: border-box;top: 0;bottom: 0;left: 50%;z-index: 0;}#sk-container-id-3 div.sk-serial {display: flex;flex-direction: column;align-items: center;background-color: white;padding-right: 0.2em;padding-left: 0.2em;position: relative;}#sk-container-id-3 div.sk-item {position: relative;z-index: 1;}#sk-container-id-3 div.sk-parallel {display: flex;align-items: stretch;justify-content: center;background-color: white;position: relative;}#sk-container-id-3 div.sk-item::before, #sk-container-id-3 div.sk-parallel-item::before {content: \"\";position: absolute;border-left: 1px solid gray;box-sizing: border-box;top: 0;bottom: 0;left: 50%;z-index: -1;}#sk-container-id-3 div.sk-parallel-item {display: flex;flex-direction: column;z-index: 1;position: relative;background-color: white;}#sk-container-id-3 div.sk-parallel-item:first-child::after {align-self: flex-end;width: 50%;}#sk-container-id-3 div.sk-parallel-item:last-child::after {align-self: flex-start;width: 50%;}#sk-container-id-3 div.sk-parallel-item:only-child::after {width: 0;}#sk-container-id-3 div.sk-dashed-wrapped {border: 1px dashed gray;margin: 0 0.4em 0.5em 0.4em;box-sizing: border-box;padding-bottom: 0.4em;background-color: white;}#sk-container-id-3 div.sk-label label {font-family: monospace;font-weight: bold;display: inline-block;line-height: 1.2em;}#sk-container-id-3 div.sk-label-container {text-align: center;}#sk-container-id-3 div.sk-container {/* jupyter's `normalize.less` sets `[hidden] { display: none; }` but bootstrap.min.css set `[hidden] { display: none !important; }` so we also need the `!important` here to be able to override the default hidden behavior on the sphinx rendered scikit-learn.org. See: https://github.com/scikit-learn/scikit-learn/issues/21755 */display: inline-block !important;position: relative;}#sk-container-id-3 div.sk-text-repr-fallback {display: none;}</style><div id=\"sk-container-id-3\" class=\"sk-top-container\"><div class=\"sk-text-repr-fallback\"><pre>LinearRegression()</pre><b>In a Jupyter environment, please rerun this cell to show the HTML representation or trust the notebook. <br />On GitHub, the HTML representation is unable to render, please try loading this page with nbviewer.org.</b></div><div class=\"sk-container\" hidden><div class=\"sk-item\"><div class=\"sk-estimator sk-toggleable\"><input class=\"sk-toggleable__control sk-hidden--visually\" id=\"sk-estimator-id-3\" type=\"checkbox\" checked><label for=\"sk-estimator-id-3\" class=\"sk-toggleable__label sk-toggleable__label-arrow\">LinearRegression</label><div class=\"sk-toggleable__content\"><pre>LinearRegression()</pre></div></div></div></div></div>"
      ],
      "text/plain": [
       "LinearRegression()"
      ]
     },
     "execution_count": 26,
     "metadata": {},
     "output_type": "execute_result"
    }
   ],
   "source": [
    "model = LinearRegression()\n",
    "model.fit(X_train, y_train)"
   ]
  },
  {
   "cell_type": "code",
   "execution_count": 27,
   "id": "1ddbf068",
   "metadata": {},
   "outputs": [],
   "source": [
    "y_pred = model.predict(X_test)"
   ]
  },
  {
   "cell_type": "code",
   "execution_count": 28,
   "id": "fa1c2715",
   "metadata": {},
   "outputs": [
    {
     "data": {
      "text/plain": [
       "array([14.97577512, 14.94717977, 14.95655052, ...,  5.00400709,\n",
       "        4.97549197,  5.00232191])"
      ]
     },
     "execution_count": 28,
     "metadata": {},
     "output_type": "execute_result"
    }
   ],
   "source": [
    "y_pred"
   ]
  },
  {
   "cell_type": "code",
   "execution_count": 29,
   "id": "9cf13983",
   "metadata": {},
   "outputs": [
    {
     "name": "stdout",
     "output_type": "stream",
     "text": [
      "Mean Squared Error: 9.982122587654688\n"
     ]
    }
   ],
   "source": [
    "# Calculating and printing the mean squared error\n",
    "mse = mean_squared_error(y_test, y_pred)\n",
    "print(f\"Mean Squared Error: {mse}\")"
   ]
  },
  {
   "cell_type": "code",
   "execution_count": 30,
   "id": "70a86bfa",
   "metadata": {},
   "outputs": [
    {
     "name": "stdout",
     "output_type": "stream",
     "text": [
      "R² score for the training set: 0.71\n",
      "R² score for the testing set: 0.72\n"
     ]
    }
   ],
   "source": [
    "from sklearn.metrics import r2_score\n",
    "\n",
    "# Calculate R² score for training set\n",
    "train_r2 = r2_score(y_train, model.predict(X_train))\n",
    "print(f\"R² score for the training set: {train_r2:.2f}\")\n",
    "\n",
    "# Calculate R² score for testing set\n",
    "test_r2 = r2_score(y_test, y_pred)\n",
    "print(f\"R² score for the testing set: {test_r2:.2f}\")"
   ]
  },
  {
   "cell_type": "code",
   "execution_count": 31,
   "id": "4dd6533d",
   "metadata": {},
   "outputs": [
    {
     "name": "stdout",
     "output_type": "stream",
     "text": [
      "Predicted No-shows: 1\n"
     ]
    }
   ],
   "source": [
    "#'Flight_Duration', 'Odd_Hours', 'Passengers_Booked', 'Meals_Loaded','Weather_Conditions','Special_Event'\n",
    "new_flight_example = [[4, 0, 110, 160, 0, 0]]  # An example input array #weather conditions 0 good 1 bad\n",
    "                                               # 0 not an odd hour,1 is an odd hour\n",
    " \n",
    "# Use the model to make a prediction\n",
    "predicted_no_show = model.predict(new_flight_example)\n",
    "\n",
    "print(f\"Predicted No-shows: {predicted_no_show[0]:.0f}\")"
   ]
  },
  {
   "cell_type": "code",
   "execution_count": null,
   "id": "e0200ec6",
   "metadata": {},
   "outputs": [],
   "source": []
  }
 ],
 "metadata": {
  "kernelspec": {
   "display_name": "Python 3 (ipykernel)",
   "language": "python",
   "name": "python3"
  },
  "language_info": {
   "codemirror_mode": {
    "name": "ipython",
    "version": 3
   },
   "file_extension": ".py",
   "mimetype": "text/x-python",
   "name": "python",
   "nbconvert_exporter": "python",
   "pygments_lexer": "ipython3",
   "version": "3.11.5"
  }
 },
 "nbformat": 4,
 "nbformat_minor": 5
}
